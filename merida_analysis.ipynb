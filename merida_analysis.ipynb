{
 "cells": [
  {
   "cell_type": "code",
   "execution_count": null,
   "metadata": {},
   "outputs": [],
   "source": []
  },
  {
   "cell_type": "code",
   "execution_count": 14,
   "metadata": {},
   "outputs": [],
   "source": [
    "from sqlalchemy import create_engine\n",
    "import pandas as pd\n",
    "from matplotlib import pyplot\n",
    "import matplotlib.pyplot as plt\n",
    "from datetime import datetime\n",
    "from datetime import timedelta\n",
    "import pandas as pd\n",
    "import numpy as np"
   ]
  },
  {
   "cell_type": "markdown",
   "metadata": {},
   "source": [
    "Read HOBO Data"
   ]
  },
  {
   "cell_type": "code",
   "execution_count": 15,
   "metadata": {},
   "outputs": [],
   "source": [
    "hobo_path = \"/Users/diego/Desktop/Projects_Code/sonora_cooling_code/inputs/hobo/21742077_2023-06-02_14_53_28_CST.xlsx\""
   ]
  },
  {
   "cell_type": "code",
   "execution_count": 16,
   "metadata": {},
   "outputs": [],
   "source": [
    "data=pd.read_excel(hobo_path, index_col=0)"
   ]
  },
  {
   "cell_type": "code",
   "execution_count": 22,
   "metadata": {},
   "outputs": [
    {
     "data": {
      "text/plain": [
       "Index(['Fecha/hora (UTC Standard Time-6)', 'Ch: 1 - CorrienteCA   (amp)'], dtype='object')"
      ]
     },
     "execution_count": 22,
     "metadata": {},
     "output_type": "execute_result"
    }
   ],
   "source": [
    "data.columns"
   ]
  },
  {
   "cell_type": "code",
   "execution_count": 23,
   "metadata": {},
   "outputs": [
    {
     "data": {
      "text/plain": [
       "[<matplotlib.lines.Line2D at 0x11cbc9340>]"
      ]
     },
     "execution_count": 23,
     "metadata": {},
     "output_type": "execute_result"
    },
    {
     "data": {
      "image/png": "[encoded data removed]",
      "text/plain": [
       "<Figure size 432x288 with 1 Axes>"
      ]
     },
     "metadata": {
      "needs_background": "light"
     },
     "output_type": "display_data"
    }
   ],
   "source": [
    "plt.plot(data['Fecha/hora (UTC Standard Time-6)'],data['Ch: 1 - CorrienteCA   (amp)'],color='red')"
   ]
  },
  {
   "cell_type": "markdown",
   "metadata": {},
   "source": [
    "Geocene"
   ]
  },
  {
   "cell_type": "code",
   "execution_count": 24,
   "metadata": {},
   "outputs": [],
   "source": [
    "path = \"/Users/diego/Desktop/Projects_Code/sonora_cooling_code/inputs/geocene/may_2023/metrics/\"\n",
    "#output_path = \"/Users/diego/Desktop/Projects_Code/sonora_cooling_code/data_dumps/october/\""
   ]
  },
  {
   "cell_type": "code",
   "execution_count": 34,
   "metadata": {},
   "outputs": [],
   "source": [
    "# Missions\n",
    "# ALWAYS\n",
    "# missions['house_id'] = (\"ac_temp_sensor\",\"ambient_sensor\",\"energy_sensor\")\n",
    "# missions['house_id'] = (\"ac_temp_sensor\",\"ac_temp_sensor\",\"ambient_sensor\",\"energy_sensor\",\"energy_sensor\")\n",
    "# Make sure you create the dictionary \n",
    "\n",
    "missions={}"
   ]
  },
  {
   "cell_type": "code",
   "execution_count": 35,
   "metadata": {},
   "outputs": [],
   "source": [
    "# HOUSE ID 1 FCD0\n",
    "# Three Sensors\n",
    "missions['id_1']=(\"casa1-_fcd0-6478bb83-0000-0000-0000-cc78ab77fcd0.csv\")"
   ]
  },
  {
   "cell_type": "code",
   "execution_count": 27,
   "metadata": {},
   "outputs": [],
   "source": [
    "date_limit = pd.to_datetime('2023-05-30',utc=True)"
   ]
  },
  {
   "cell_type": "code",
   "execution_count": 39,
   "metadata": {},
   "outputs": [
    {
     "name": "stdout",
     "output_type": "stream",
     "text": [
      "Household ID: id_1\n"
     ]
    }
   ],
   "source": [
    "for mission in missions:\n",
    "    print(\"Household ID: \"+ str(mission))\n",
    "    \n",
    "    mission_list_dfs=[]\n",
    "    if len(missions[mission])==1:\n",
    "        print(\"1 SENSORS TOTAL\")\n",
    "        \n",
    "        for num in range(0,1):\n",
    "            print(\"a\")\n",
    "            print(num)\n",
    "        \n",
    "#             data_sensor = pd.read_csv(path+missions[mission][num])\n",
    "#             data_sensor['timestamp'] = pd.to_datetime(data_sensor['timestamp'])\n",
    "#             name_sensor = data_sensor['mission_id'][0][-4:]\n",
    "#             length_days = len(data_sensor['timestamp'].dt.date.unique())\n",
    "            \n",
    "#             first_date = data_sensor['timestamp'].sort_values(ascending=True).reset_index()['timestamp'][0].date()\n",
    "#             recent_date = data_sensor['timestamp'].sort_values(ascending=False).reset_index()['timestamp'][0].date()"
   ]
  },
  {
   "cell_type": "code",
   "execution_count": 42,
   "metadata": {},
   "outputs": [
    {
     "data": {
      "text/plain": [
       "52"
      ]
     },
     "execution_count": 42,
     "metadata": {},
     "output_type": "execute_result"
    }
   ],
   "source": [
    "len(missions['id_1'])"
   ]
  },
  {
   "cell_type": "code",
   "execution_count": null,
   "metadata": {},
   "outputs": [],
   "source": []
  }
 ],
 "metadata": {
  "kernelspec": {
   "display_name": "Python 3",
   "language": "python",
   "name": "python3"
  },
  "language_info": {
   "codemirror_mode": {
    "name": "ipython",
    "version": 3
   },
   "file_extension": ".py",
   "mimetype": "text/x-python",
   "name": "python",
   "nbconvert_exporter": "python",
   "pygments_lexer": "ipython3",
   "version": "3.9.1"
  }
 },
 "nbformat": 4,
 "nbformat_minor": 4
}
